{
  "nbformat": 4,
  "nbformat_minor": 0,
  "metadata": {
    "colab": {
      "name": "ML2021Spring - HW1.ipynb",
      "provenance": [],
      "include_colab_link": true
    },
    "kernelspec": {
      "name": "python3",
      "display_name": "Python 3"
    },
    "accelerator": "GPU"
  },
  "cells": [
    {
      "cell_type": "markdown",
      "metadata": {
        "id": "view-in-github",
        "colab_type": "text"
      },
      "source": [
        "<a href=\"https://colab.research.google.com/github/IntoYourHeart/DeepLearning/blob/main/HW01/HW01.ipynb\" target=\"_parent\"><img src=\"https://colab.research.google.com/assets/colab-badge.svg\" alt=\"Open In Colab\"/></a>"
      ]
    },
    {
      "cell_type": "markdown",
      "metadata": {
        "id": "mz0_QVkxCrX3"
      },
      "source": [
        "# **Homework 1: COVID-19 Cases Prediction (Regression)**"
      ]
    },
    {
      "cell_type": "markdown",
      "metadata": {
        "id": "ZeZnPAiwDRWG"
      },
      "source": [
        "Author: Heng-Jui Chang\n",
        "\n",
        "Slides: https://github.com/ga642381/ML2021-Spring/blob/main/HW01/HW01.pdf  \n",
        "Videos (Mandarin): https://cool.ntu.edu.tw/courses/4793/modules/items/172854  \n",
        "https://cool.ntu.edu.tw/courses/4793/modules/items/172853  \n",
        "Video (English): https://cool.ntu.edu.tw/courses/4793/modules/items/176529\n",
        "\n",
        "\n",
        "Objectives:\n",
        "* Solve a regression problem with deep neural networks (DNN).\n",
        "* Understand basic DNN training tips.\n",
        "* Get familiar with PyTorch.\n",
        "\n",
        "If any questions, please contact the TAs via TA hours, NTU COOL, or email.\n"
      ]
    },
    {
      "cell_type": "markdown",
      "metadata": {
        "id": "Jx3x1nDkG-Uy"
      },
      "source": [
        "# **Download Data**\n",
        "\n",
        "\n",
        "If the Google drive links are dead, you can download data from [kaggle](https://www.kaggle.com/c/ml2021spring-hw1/data), and upload data manually to the workspace."
      ]
    },
    {
      "cell_type": "code",
      "metadata": {
        "colab": {
          "base_uri": "https://localhost:8080/"
        },
        "id": "tMj55YDKG6ch",
        "outputId": "4d053b90-ec97-49a8-e1b1-bf4dcd0136fc"
      },
      "source": [
        "tr_path = 'covid.train.csv'  # path to training data\n",
        "tt_path = 'covid.test.csv'   # path to testing data\n",
        "\n",
        "!gdown --id '19CCyCgJrUxtvgZF53vnctJiOJ23T5mqF' --output covid.train.csv\n",
        "!gdown --id '1CE240jLm2npU-tdz81-oVKEF3T2yfT1O' --output covid.test.csv"
      ],
      "execution_count": 264,
      "outputs": [
        {
          "output_type": "stream",
          "name": "stdout",
          "text": [
            "/usr/local/lib/python3.11/dist-packages/gdown/__main__.py:140: FutureWarning: Option `--id` was deprecated in version 4.3.1 and will be removed in 5.0. You don't need to pass it anymore to use a file ID.\n",
            "  warnings.warn(\n",
            "Downloading...\n",
            "From: https://drive.google.com/uc?id=19CCyCgJrUxtvgZF53vnctJiOJ23T5mqF\n",
            "To: /content/covid.train.csv\n",
            "100% 2.00M/2.00M [00:00<00:00, 124MB/s]\n",
            "/usr/local/lib/python3.11/dist-packages/gdown/__main__.py:140: FutureWarning: Option `--id` was deprecated in version 4.3.1 and will be removed in 5.0. You don't need to pass it anymore to use a file ID.\n",
            "  warnings.warn(\n",
            "Downloading...\n",
            "From: https://drive.google.com/uc?id=1CE240jLm2npU-tdz81-oVKEF3T2yfT1O\n",
            "To: /content/covid.test.csv\n",
            "100% 651k/651k [00:00<00:00, 30.4MB/s]\n"
          ]
        }
      ]
    },
    {
      "cell_type": "markdown",
      "metadata": {
        "id": "wS_4-77xHk44"
      },
      "source": [
        "# **Import Some Packages**"
      ]
    },
    {
      "cell_type": "code",
      "metadata": {
        "id": "k-onQd4JNA5H"
      },
      "source": [
        "# PyTorch\n",
        "import torch\n",
        "import torch.nn as nn\n",
        "from torch.utils.data import Dataset, DataLoader\n",
        "\n",
        "# For data preprocess\n",
        "import numpy as np\n",
        "import csv\n",
        "import os\n",
        "\n",
        "# For plotting\n",
        "import matplotlib.pyplot as plt\n",
        "from matplotlib.pyplot import figure\n",
        "\n",
        "myseed = 42069  # set a random seed for reproducibility\n",
        "torch.backends.cudnn.deterministic = True\n",
        "torch.backends.cudnn.benchmark = False\n",
        "np.random.seed(myseed)\n",
        "torch.manual_seed(myseed)\n",
        "if torch.cuda.is_available():\n",
        "    torch.cuda.manual_seed_all(myseed)"
      ],
      "execution_count": 265,
      "outputs": []
    },
    {
      "cell_type": "markdown",
      "metadata": {
        "id": "BtE3b6JEH7rw"
      },
      "source": [
        "# **Some Utilities**\n",
        "\n",
        "You do not need to modify this part."
      ]
    },
    {
      "cell_type": "code",
      "metadata": {
        "id": "FWMT3uf1NGQp"
      },
      "source": [
        "def get_device():\n",
        "    ''' Get device (if GPU is available, use GPU) '''\n",
        "    return 'cuda' if torch.cuda.is_available() else 'cpu'\n",
        "\n",
        "def plot_learning_curve(loss_record, title=''):\n",
        "    ''' Plot learning curve of your DNN (train & dev loss) '''\n",
        "    total_steps = len(loss_record['train'])\n",
        "    x_1 = range(total_steps)\n",
        "    x_2 = x_1[::len(loss_record['train']) // len(loss_record['dev'])]\n",
        "    figure(figsize=(6, 4))\n",
        "    plt.plot(x_1, loss_record['train'], c='tab:red', label='train')\n",
        "    plt.plot(x_2, loss_record['dev'], c='tab:cyan', label='dev')\n",
        "    plt.ylim(0.0, 5.)\n",
        "    plt.xlabel('Training steps')\n",
        "    plt.ylabel('MSE loss')\n",
        "    plt.title('Learning curve of {}'.format(title))\n",
        "    plt.legend()\n",
        "    plt.show()\n",
        "\n",
        "\n",
        "def plot_pred(dv_set, model, device, lim=35., preds=None, targets=None):\n",
        "    ''' Plot prediction of your DNN '''\n",
        "    if preds is None or targets is None:\n",
        "        model.eval()\n",
        "        preds, targets = [], []\n",
        "        for x, y in dv_set:\n",
        "            x, y = x.to(device), y.to(device)\n",
        "            with torch.no_grad():\n",
        "                pred = model(x)\n",
        "                preds.append(pred.detach().cpu())\n",
        "                targets.append(y.detach().cpu())\n",
        "        preds = torch.cat(preds, dim=0).numpy()\n",
        "        targets = torch.cat(targets, dim=0).numpy()\n",
        "\n",
        "    figure(figsize=(5, 5))\n",
        "    plt.scatter(targets, preds, c='r', alpha=0.5)\n",
        "    plt.plot([-0.2, lim], [-0.2, lim], c='b')\n",
        "    plt.xlim(-0.2, lim)\n",
        "    plt.ylim(-0.2, lim)\n",
        "    plt.xlabel('ground truth value')\n",
        "    plt.ylabel('predicted value')\n",
        "    plt.title('Ground Truth v.s. Prediction')\n",
        "    plt.show()"
      ],
      "execution_count": 266,
      "outputs": []
    },
    {
      "cell_type": "markdown",
      "metadata": {
        "id": "39U_XFX6KOoj"
      },
      "source": [
        "# **Preprocess**\n",
        "\n",
        "We have three kinds of datasets:\n",
        "* `train`: for training\n",
        "* `dev`: for validation\n",
        "* `test`: for testing (w/o target value)"
      ]
    },
    {
      "cell_type": "markdown",
      "metadata": {
        "id": "TQ-MdwpLL7Dt"
      },
      "source": [
        "## **Dataset**\n",
        "\n",
        "The `COVID19Dataset` below does:\n",
        "* read `.csv` files\n",
        "* extract features\n",
        "* split `covid.train.csv` into train/dev sets\n",
        "* normalize features\n",
        "\n",
        "Finishing `TODO` below might make you pass medium baseline."
      ]
    },
    {
      "cell_type": "code",
      "metadata": {
        "id": "0zlpIp9ANJRU"
      },
      "source": [
        "class COVID19Dataset(Dataset):\n",
        "    ''' Dataset for loading and preprocessing the COVID19 dataset '''\n",
        "    def __init__(self,\n",
        "                 path,\n",
        "                 mode='train',\n",
        "                 target_only=False):\n",
        "        self.mode = mode\n",
        "\n",
        "        # Read data into numpy arrays\n",
        "        with open(path, 'r') as fp:\n",
        "            data = list(csv.reader(fp))\n",
        "            data = np.array(data[1:])[:, 1:].astype(float)\n",
        "\n",
        "        if not target_only:\n",
        "            feats = list(range(93))\n",
        "        else:\n",
        "            # TODO: Using 40 states & 2 tested_positive features (indices = 57 & 75)\n",
        "            pass\n",
        "\n",
        "        if mode == 'test':\n",
        "            # Testing data\n",
        "            # data: 893 x 93 (40 states + day 1 (18) + day 2 (18) + day 3 (17))\n",
        "            data = data[:, feats]\n",
        "            self.data = torch.FloatTensor(data)\n",
        "        else:\n",
        "            # Training data (train/dev sets)\n",
        "            # data: 2700 x 94 (40 states + day 1 (18) + day 2 (18) + day 3 (18))\n",
        "            target = data[:, -1]\n",
        "            data = data[:, feats]\n",
        "\n",
        "            # Splitting training data into train & dev sets\n",
        "            if mode == 'train':\n",
        "                indices = [i for i in range(len(data)) if i % 10 != 0]\n",
        "            elif mode == 'dev':\n",
        "                indices = [i for i in range(len(data)) if i % 10 == 0]\n",
        "\n",
        "            # Convert data into PyTorch tensors\n",
        "            self.data = torch.FloatTensor(data[indices])\n",
        "            self.target = torch.FloatTensor(target[indices])\n",
        "\n",
        "        # Normalize features (you may remove this part to see what will happen)\n",
        "        self.data[:, 40:] = \\\n",
        "            (self.data[:, 40:] - self.data[:, 40:].mean(dim=0, keepdim=True)) \\\n",
        "            / self.data[:, 40:].std(dim=0, keepdim=True)\n",
        "\n",
        "        self.dim = self.data.shape[1] #列数/feature数量\n",
        "\n",
        "        print('Finished reading the {} set of COVID19 Dataset ({} samples found, each dim = {})'\n",
        "              .format(mode, len(self.data), self.dim))\n",
        "\n",
        "    def __getitem__(self, index):\n",
        "        # Returns one sample at a time\n",
        "        if self.mode in ['train', 'dev']:\n",
        "            # For training\n",
        "            return self.data[index], self.target[index]\n",
        "        else:\n",
        "            # For testing (no target)\n",
        "            return self.data[index]\n",
        "\n",
        "    def __len__(self):\n",
        "        # Returns the size of the dataset\n",
        "        return len(self.data)"
      ],
      "execution_count": 267,
      "outputs": []
    },
    {
      "cell_type": "markdown",
      "metadata": {
        "id": "AlhTlkE7MDo3"
      },
      "source": [
        "## **DataLoader**\n",
        "\n",
        "A `DataLoader` loads data from a given `Dataset` into batches.\n",
        "\n",
        "- `drop_last=False`: 如果最后一个 batch 不足 batch_size，也不会丢弃。\n",
        "\n",
        "- `num_workers=n_jobs`: 读取数据的线程/进程数量，提高加载速度。\n",
        "\n",
        "- `pin_memory=True`: 如果使用 GPU，开启这个可以加速数据拷贝到 GPU 的过程。\n"
      ]
    },
    {
      "cell_type": "code",
      "metadata": {
        "id": "hlhLk5t6MBX3"
      },
      "source": [
        "def prep_dataloader(path, mode, batch_size, n_jobs=0, target_only=False):\n",
        "    ''' Generates a dataset, then is put into a dataloader. '''\n",
        "    dataset = COVID19Dataset(path, mode=mode, target_only=target_only)  # Construct dataset\n",
        "    dataloader = DataLoader(\n",
        "        dataset, batch_size,\n",
        "        shuffle=(mode == 'train'), drop_last=False,\n",
        "        num_workers=n_jobs, pin_memory=True)                            # Construct dataloader\n",
        "    return dataloader"
      ],
      "execution_count": 268,
      "outputs": []
    },
    {
      "cell_type": "code",
      "source": [],
      "metadata": {
        "id": "zIwRf9JQU_VT"
      },
      "execution_count": 268,
      "outputs": []
    },
    {
      "cell_type": "markdown",
      "metadata": {
        "id": "SGuycwR0MeQB"
      },
      "source": [
        "# **Deep Neural Network**\n",
        "\n",
        "`NeuralNet` is an `nn.Module` designed for regression.\n",
        "The DNN consists of 2 fully-connected layers with ReLU activation.\n",
        "This module also included a function `cal_loss` for calculating loss.\n"
      ]
    },
    {
      "cell_type": "code",
      "metadata": {
        "id": "49-uXYovOAI0"
      },
      "source": [
        "class NeuralNet(nn.Module):\n",
        "    ''' A simple fully-connected deep neural network '''\n",
        "    def __init__(self, input_dim):\n",
        "        super(NeuralNet, self).__init__()\n",
        "\n",
        "        # Define your neural network here\n",
        "        # TODO: How to modify this model to achieve better performance?\n",
        "        self.net = nn.Sequential(\n",
        "            nn.Linear(input_dim, 32),\n",
        "            nn.ReLU(),\n",
        "            nn.Dropout(p = 0.213),\n",
        "            nn.Linear(32, 1)\n",
        "        )\n",
        "\n",
        "        # Mean squared error loss\n",
        "        self.criterion = nn.MSELoss(reduction='mean')\n",
        "\n",
        "    def forward(self, x):\n",
        "        ''' Given input of size (batch_size x input_dim), compute output of the network '''\n",
        "        return self.net(x).squeeze(1) #去掉维度 1 的维数，使输出变成 (batch_size,)，例如 [2.5, 4.6, 1.0, ...]。\n",
        "\n",
        "    def cal_loss(self, pred, target):\n",
        "        ''' Calculate loss '''\n",
        "        # TODO: you may implement L1/L2 regularization here\n",
        "        return self.criterion(pred, target)"
      ],
      "execution_count": 269,
      "outputs": []
    },
    {
      "cell_type": "markdown",
      "metadata": {
        "id": "DvFWVjZ5Nvga"
      },
      "source": [
        "# **Train/Dev/Test**"
      ]
    },
    {
      "cell_type": "markdown",
      "metadata": {
        "id": "MAM8QecJOyqn"
      },
      "source": [
        "## **Training**"
      ]
    },
    {
      "cell_type": "code",
      "metadata": {
        "id": "lOqcmYzMO7jB"
      },
      "source": [
        "def train(tr_set, dv_set, model, config, device):\n",
        "    ''' DNN training '''\n",
        "\n",
        "    n_epochs = config['n_epochs']  # Maximum number of epochs\n",
        "\n",
        "    # Setup optimizer\n",
        "    optimizer = getattr(torch.optim, config['optimizer'])(\n",
        "        model.parameters(), **config['optim_hparas'])\n",
        "\n",
        "    if 'lr_scheduler' in config:\n",
        "        scheduler = getattr(torch.optim.lr_scheduler, config['lr_scheduler'])(\n",
        "        optimizer, **config['lr_scheduler_hparas'])\n",
        "    else:\n",
        "        scheduler = None\n",
        "\n",
        "    min_mse = 1000.\n",
        "    loss_record = {'train': [], 'dev': []}      # for recording training loss\n",
        "    early_stop_cnt = 0\n",
        "    epoch = 0\n",
        "    while epoch < n_epochs:\n",
        "        model.train()                           # set model to training mode\n",
        "        for x, y in tr_set:                     # iterate through the dataloader\n",
        "            optimizer.zero_grad()               # set gradient to zero\n",
        "            x, y = x.to(device), y.to(device)   # move data to device (cpu/cuda)\n",
        "            pred = model(x)                     # forward pass (compute output)\n",
        "            mse_loss = model.cal_loss(pred, y)  # compute loss\n",
        "            mse_loss.backward()                 # compute gradient (backpropagation)\n",
        "            optimizer.step()                    # update model with optimizer\n",
        "            loss_record['train'].append(mse_loss.detach().cpu().item())\n",
        "\n",
        "        # After each epoch, test your model on the validation (development) set.\n",
        "        dev_mse = dev(dv_set, model, device)\n",
        "        if dev_mse < min_mse:\n",
        "            # Save model if your model improved\n",
        "            min_mse = dev_mse\n",
        "            print('Saving model (epoch = {:4d}, loss = {:.4f})'\n",
        "                .format(epoch + 1, min_mse))\n",
        "            torch.save(model.state_dict(), config['save_path'])  # Save model to specified path\n",
        "            early_stop_cnt = 0\n",
        "        else:\n",
        "            early_stop_cnt += 1\n",
        "\n",
        "        epoch += 1\n",
        "        loss_record['dev'].append(dev_mse)\n",
        "        if isinstance(scheduler, torch.optim.lr_scheduler.ReduceLROnPlateau):\n",
        "            scheduler.step(dev_mse)\n",
        "        else:\n",
        "            scheduler.step()\n",
        "        if early_stop_cnt > config['early_stop']:\n",
        "            # Stop training if your model stops improving for \"config['early_stop']\" epochs.\n",
        "            break\n",
        "\n",
        "    print('Finished training after {} epochs'.format(epoch))\n",
        "    return min_mse, loss_record"
      ],
      "execution_count": 270,
      "outputs": []
    },
    {
      "cell_type": "markdown",
      "metadata": {
        "id": "0hSd4Bn3O2PL"
      },
      "source": [
        "## **Validation**"
      ]
    },
    {
      "cell_type": "code",
      "metadata": {
        "id": "yrxrD3YsN3U2"
      },
      "source": [
        "def dev(dv_set, model, device):\n",
        "    model.eval()                                # set model to evalutation mode\n",
        "    total_loss = 0\n",
        "    for x, y in dv_set:                         # iterate through the dataloader\n",
        "        x, y = x.to(device), y.to(device)       # move data to device (cpu/cuda)\n",
        "        with torch.no_grad():                   # disable gradient calculation\n",
        "            pred = model(x)                     # forward pass (compute output)\n",
        "            mse_loss = model.cal_loss(pred, y)  # compute loss\n",
        "        total_loss += mse_loss.detach().cpu().item() * len(x)  # accumulate loss\n",
        "    total_loss = total_loss / len(dv_set.dataset)              # compute averaged loss\n",
        "\n",
        "    return total_loss"
      ],
      "execution_count": 271,
      "outputs": []
    },
    {
      "cell_type": "markdown",
      "metadata": {
        "id": "g0pdrhQAO41L"
      },
      "source": [
        "## **Testing**"
      ]
    },
    {
      "cell_type": "code",
      "metadata": {
        "id": "aSBMRFlYN5tB"
      },
      "source": [
        "def test(tt_set, model, device):\n",
        "    model.eval()                                # set model to evalutation mode\n",
        "    preds = []\n",
        "    for x in tt_set:                            # iterate through the dataloader\n",
        "        x = x.to(device)                        # move data to device (cpu/cuda)\n",
        "        with torch.no_grad():                   # disable gradient calculation\n",
        "            pred = model(x)                     # forward pass (compute output)\n",
        "            preds.append(pred.detach().cpu())   # collect prediction\n",
        "    preds = torch.cat(preds, dim=0).numpy()     # concatenate all predictions and convert to a numpy array\n",
        "    return preds"
      ],
      "execution_count": 272,
      "outputs": []
    },
    {
      "cell_type": "markdown",
      "metadata": {
        "id": "SvckkF5dvf0j"
      },
      "source": [
        "# **Setup Hyper-parameters**\n",
        "\n",
        "`config` contains hyper-parameters for training and the path to save your model."
      ]
    },
    {
      "cell_type": "code",
      "metadata": {
        "id": "NPXpdumwPjE7"
      },
      "source": [
        "device = get_device()                 # get the current available device ('cpu' or 'cuda')\n",
        "os.makedirs('models', exist_ok=True)  # The trained model will be saved to ./models/\n",
        "target_only = False                   # TODO: Using 40 states & 2 tested_positive features\n",
        "\n",
        "# TODO: How to tune these hyper-parameters to improve your model's performance?\n",
        "config = {\n",
        "    'n_epochs': 3000,                # maximum number of epochs\n",
        "    'batch_size': 270,               # mini-batch size for dataloader\n",
        "    'optimizer': 'Adam',              # optimization algorithm (optimizer in torch.optim)\n",
        "    'optim_hparas': {                # hyper-parameters for the optimizer (depends on which optimizer you are using)\n",
        "        'lr': 0.001,\n",
        "        'betas': (0.9, 0.999),\n",
        "        'eps': 1e-08,              # momentum for SGD\n",
        "        'weight_decay': 1e-1\n",
        "    },\n",
        "    'lr_scheduler': 'ReduceLROnPlateau',\n",
        "    'lr_scheduler_hparas': {\n",
        "        'mode': 'min',\n",
        "        'factor': 0.92,       # 每次减少 20%\n",
        "        'patience': 20,      # 容忍 10 次无提升\n",
        "        'threshold': 1e-3,   # 认为 dev loss 提升小于 0.001 不算改进\n",
        "        'min_lr': 1e-5       # lr 最小不低于 1e-5\n",
        "    },\n",
        "    'early_stop': 200,               # early stopping epochs (the number epochs since your model's last improvement)\n",
        "    'save_path': 'models/model.pth'  # your model will be saved here\n",
        "}"
      ],
      "execution_count": 273,
      "outputs": []
    },
    {
      "cell_type": "markdown",
      "metadata": {
        "id": "6j1eOV3TOH-j"
      },
      "source": [
        "# **Load data and model**"
      ]
    },
    {
      "cell_type": "code",
      "metadata": {
        "id": "eNrYBMmePLKm",
        "colab": {
          "base_uri": "https://localhost:8080/"
        },
        "outputId": "7ee205d6-6624-4a3a-e122-85c63ba9ae5e"
      },
      "source": [
        "tr_set = prep_dataloader(tr_path, 'train', config['batch_size'], target_only=target_only)\n",
        "dv_set = prep_dataloader(tr_path, 'dev', config['batch_size'], target_only=target_only)\n",
        "tt_set = prep_dataloader(tt_path, 'test', config['batch_size'], target_only=target_only)"
      ],
      "execution_count": 274,
      "outputs": [
        {
          "output_type": "stream",
          "name": "stdout",
          "text": [
            "Finished reading the train set of COVID19 Dataset (2430 samples found, each dim = 93)\n",
            "Finished reading the dev set of COVID19 Dataset (270 samples found, each dim = 93)\n",
            "Finished reading the test set of COVID19 Dataset (893 samples found, each dim = 93)\n"
          ]
        }
      ]
    },
    {
      "cell_type": "code",
      "metadata": {
        "id": "FHylSirLP9oh"
      },
      "source": [
        "model = NeuralNet(tr_set.dataset.dim).to(device)  # Construct model and move to device"
      ],
      "execution_count": 275,
      "outputs": []
    },
    {
      "cell_type": "markdown",
      "metadata": {
        "id": "sX2B_zgSOPTJ"
      },
      "source": [
        "# **Start Training!**"
      ]
    },
    {
      "cell_type": "code",
      "metadata": {
        "id": "GrEbUxazQAAZ",
        "colab": {
          "base_uri": "https://localhost:8080/"
        },
        "outputId": "f5ccc5f7-e742-4bd5-8140-cc2ed8ad27d1"
      },
      "source": [
        "model_loss, model_loss_record = train(tr_set, dv_set, model, config, device)"
      ],
      "execution_count": 276,
      "outputs": [
        {
          "output_type": "stream",
          "name": "stdout",
          "text": [
            "Saving model (epoch =    1, loss = 319.4088)\n",
            "Saving model (epoch =    2, loss = 310.8893)\n",
            "Saving model (epoch =    3, loss = 302.2500)\n",
            "Saving model (epoch =    4, loss = 292.6700)\n",
            "Saving model (epoch =    5, loss = 281.8759)\n",
            "Saving model (epoch =    6, loss = 269.6499)\n",
            "Saving model (epoch =    7, loss = 255.7969)\n",
            "Saving model (epoch =    8, loss = 240.2984)\n",
            "Saving model (epoch =    9, loss = 223.2416)\n",
            "Saving model (epoch =   10, loss = 205.0030)\n",
            "Saving model (epoch =   11, loss = 185.9636)\n",
            "Saving model (epoch =   12, loss = 166.5707)\n",
            "Saving model (epoch =   13, loss = 147.3641)\n",
            "Saving model (epoch =   14, loss = 128.8877)\n",
            "Saving model (epoch =   15, loss = 111.6493)\n",
            "Saving model (epoch =   16, loss = 95.8185)\n",
            "Saving model (epoch =   17, loss = 81.9325)\n",
            "Saving model (epoch =   18, loss = 69.9991)\n",
            "Saving model (epoch =   19, loss = 60.1491)\n",
            "Saving model (epoch =   20, loss = 52.3278)\n",
            "Saving model (epoch =   21, loss = 46.3080)\n",
            "Saving model (epoch =   22, loss = 41.7868)\n",
            "Saving model (epoch =   23, loss = 38.4253)\n",
            "Saving model (epoch =   24, loss = 35.9493)\n",
            "Saving model (epoch =   25, loss = 34.1027)\n",
            "Saving model (epoch =   26, loss = 32.6301)\n",
            "Saving model (epoch =   27, loss = 31.4266)\n",
            "Saving model (epoch =   28, loss = 30.3953)\n",
            "Saving model (epoch =   29, loss = 29.4921)\n",
            "Saving model (epoch =   30, loss = 28.7112)\n",
            "Saving model (epoch =   31, loss = 27.9491)\n",
            "Saving model (epoch =   32, loss = 27.2121)\n",
            "Saving model (epoch =   33, loss = 26.5107)\n",
            "Saving model (epoch =   34, loss = 25.8253)\n",
            "Saving model (epoch =   35, loss = 25.1613)\n",
            "Saving model (epoch =   36, loss = 24.5130)\n",
            "Saving model (epoch =   37, loss = 23.8720)\n",
            "Saving model (epoch =   38, loss = 23.2311)\n",
            "Saving model (epoch =   39, loss = 22.6346)\n",
            "Saving model (epoch =   40, loss = 22.0500)\n",
            "Saving model (epoch =   41, loss = 21.4668)\n",
            "Saving model (epoch =   42, loss = 20.8937)\n",
            "Saving model (epoch =   43, loss = 20.3510)\n",
            "Saving model (epoch =   44, loss = 19.8206)\n",
            "Saving model (epoch =   45, loss = 19.3122)\n",
            "Saving model (epoch =   46, loss = 18.8448)\n",
            "Saving model (epoch =   47, loss = 18.3389)\n",
            "Saving model (epoch =   48, loss = 17.8305)\n",
            "Saving model (epoch =   49, loss = 17.3425)\n",
            "Saving model (epoch =   50, loss = 16.8872)\n",
            "Saving model (epoch =   51, loss = 16.4182)\n",
            "Saving model (epoch =   52, loss = 15.9558)\n",
            "Saving model (epoch =   53, loss = 15.5269)\n",
            "Saving model (epoch =   54, loss = 15.1510)\n",
            "Saving model (epoch =   55, loss = 14.7358)\n",
            "Saving model (epoch =   56, loss = 14.3524)\n",
            "Saving model (epoch =   57, loss = 14.0195)\n",
            "Saving model (epoch =   58, loss = 13.6422)\n",
            "Saving model (epoch =   59, loss = 13.2674)\n",
            "Saving model (epoch =   60, loss = 12.8909)\n",
            "Saving model (epoch =   61, loss = 12.5512)\n",
            "Saving model (epoch =   62, loss = 12.2499)\n",
            "Saving model (epoch =   63, loss = 11.9893)\n",
            "Saving model (epoch =   64, loss = 11.7218)\n",
            "Saving model (epoch =   65, loss = 11.4538)\n",
            "Saving model (epoch =   66, loss = 11.1701)\n",
            "Saving model (epoch =   67, loss = 10.9683)\n",
            "Saving model (epoch =   68, loss = 10.8062)\n",
            "Saving model (epoch =   69, loss = 10.5942)\n",
            "Saving model (epoch =   70, loss = 10.3812)\n",
            "Saving model (epoch =   71, loss = 10.1826)\n",
            "Saving model (epoch =   72, loss = 9.9785)\n",
            "Saving model (epoch =   73, loss = 9.7834)\n",
            "Saving model (epoch =   74, loss = 9.5986)\n",
            "Saving model (epoch =   75, loss = 9.4376)\n",
            "Saving model (epoch =   76, loss = 9.2620)\n",
            "Saving model (epoch =   77, loss = 9.0759)\n",
            "Saving model (epoch =   78, loss = 8.9099)\n",
            "Saving model (epoch =   79, loss = 8.7561)\n",
            "Saving model (epoch =   80, loss = 8.6480)\n",
            "Saving model (epoch =   81, loss = 8.6125)\n",
            "Saving model (epoch =   82, loss = 8.4723)\n",
            "Saving model (epoch =   83, loss = 8.2706)\n",
            "Saving model (epoch =   84, loss = 8.1375)\n",
            "Saving model (epoch =   85, loss = 8.0663)\n",
            "Saving model (epoch =   86, loss = 7.9624)\n",
            "Saving model (epoch =   87, loss = 7.7994)\n",
            "Saving model (epoch =   88, loss = 7.6827)\n",
            "Saving model (epoch =   89, loss = 7.5482)\n",
            "Saving model (epoch =   90, loss = 7.4457)\n",
            "Saving model (epoch =   91, loss = 7.3312)\n",
            "Saving model (epoch =   92, loss = 7.2306)\n",
            "Saving model (epoch =   93, loss = 7.1591)\n",
            "Saving model (epoch =   94, loss = 7.0916)\n",
            "Saving model (epoch =   95, loss = 6.9584)\n",
            "Saving model (epoch =   96, loss = 6.8454)\n",
            "Saving model (epoch =   97, loss = 6.7500)\n",
            "Saving model (epoch =   98, loss = 6.6803)\n",
            "Saving model (epoch =   99, loss = 6.6650)\n",
            "Saving model (epoch =  100, loss = 6.6008)\n",
            "Saving model (epoch =  101, loss = 6.5225)\n",
            "Saving model (epoch =  102, loss = 6.4274)\n",
            "Saving model (epoch =  103, loss = 6.2986)\n",
            "Saving model (epoch =  104, loss = 6.2618)\n",
            "Saving model (epoch =  105, loss = 6.2106)\n",
            "Saving model (epoch =  106, loss = 6.1690)\n",
            "Saving model (epoch =  107, loss = 6.0850)\n",
            "Saving model (epoch =  108, loss = 6.0849)\n",
            "Saving model (epoch =  109, loss = 5.9604)\n",
            "Saving model (epoch =  110, loss = 5.9337)\n",
            "Saving model (epoch =  111, loss = 5.9203)\n",
            "Saving model (epoch =  112, loss = 5.8756)\n",
            "Saving model (epoch =  113, loss = 5.8160)\n",
            "Saving model (epoch =  114, loss = 5.7380)\n",
            "Saving model (epoch =  115, loss = 5.7047)\n",
            "Saving model (epoch =  116, loss = 5.5964)\n",
            "Saving model (epoch =  117, loss = 5.5308)\n",
            "Saving model (epoch =  118, loss = 5.4706)\n",
            "Saving model (epoch =  119, loss = 5.4182)\n",
            "Saving model (epoch =  120, loss = 5.3886)\n",
            "Saving model (epoch =  122, loss = 5.3642)\n",
            "Saving model (epoch =  123, loss = 5.3347)\n",
            "Saving model (epoch =  124, loss = 5.1825)\n",
            "Saving model (epoch =  125, loss = 5.0897)\n",
            "Saving model (epoch =  126, loss = 5.0470)\n",
            "Saving model (epoch =  127, loss = 5.0407)\n",
            "Saving model (epoch =  128, loss = 5.0032)\n",
            "Saving model (epoch =  129, loss = 4.9227)\n",
            "Saving model (epoch =  130, loss = 4.8358)\n",
            "Saving model (epoch =  131, loss = 4.7728)\n",
            "Saving model (epoch =  133, loss = 4.7300)\n",
            "Saving model (epoch =  134, loss = 4.6959)\n",
            "Saving model (epoch =  135, loss = 4.6881)\n",
            "Saving model (epoch =  136, loss = 4.5968)\n",
            "Saving model (epoch =  137, loss = 4.5939)\n",
            "Saving model (epoch =  138, loss = 4.5349)\n",
            "Saving model (epoch =  139, loss = 4.4836)\n",
            "Saving model (epoch =  140, loss = 4.4111)\n",
            "Saving model (epoch =  143, loss = 4.3234)\n",
            "Saving model (epoch =  144, loss = 4.2498)\n",
            "Saving model (epoch =  145, loss = 4.2403)\n",
            "Saving model (epoch =  146, loss = 4.2099)\n",
            "Saving model (epoch =  148, loss = 4.1445)\n",
            "Saving model (epoch =  149, loss = 4.1083)\n",
            "Saving model (epoch =  150, loss = 4.0718)\n",
            "Saving model (epoch =  151, loss = 4.0690)\n",
            "Saving model (epoch =  153, loss = 4.0108)\n",
            "Saving model (epoch =  154, loss = 3.9161)\n",
            "Saving model (epoch =  155, loss = 3.8354)\n",
            "Saving model (epoch =  159, loss = 3.7874)\n",
            "Saving model (epoch =  161, loss = 3.7432)\n",
            "Saving model (epoch =  162, loss = 3.7282)\n",
            "Saving model (epoch =  163, loss = 3.6745)\n",
            "Saving model (epoch =  164, loss = 3.6465)\n",
            "Saving model (epoch =  165, loss = 3.6056)\n",
            "Saving model (epoch =  166, loss = 3.5547)\n",
            "Saving model (epoch =  167, loss = 3.5462)\n",
            "Saving model (epoch =  170, loss = 3.5101)\n",
            "Saving model (epoch =  171, loss = 3.4092)\n",
            "Saving model (epoch =  173, loss = 3.3817)\n",
            "Saving model (epoch =  175, loss = 3.3813)\n",
            "Saving model (epoch =  176, loss = 3.3483)\n",
            "Saving model (epoch =  177, loss = 3.2823)\n",
            "Saving model (epoch =  178, loss = 3.2413)\n",
            "Saving model (epoch =  179, loss = 3.2024)\n",
            "Saving model (epoch =  180, loss = 3.1643)\n",
            "Saving model (epoch =  181, loss = 3.1299)\n",
            "Saving model (epoch =  186, loss = 3.1015)\n",
            "Saving model (epoch =  187, loss = 3.0538)\n",
            "Saving model (epoch =  188, loss = 3.0325)\n",
            "Saving model (epoch =  190, loss = 3.0244)\n",
            "Saving model (epoch =  191, loss = 2.9946)\n",
            "Saving model (epoch =  192, loss = 2.9896)\n",
            "Saving model (epoch =  193, loss = 2.9079)\n",
            "Saving model (epoch =  194, loss = 2.8963)\n",
            "Saving model (epoch =  198, loss = 2.8764)\n",
            "Saving model (epoch =  200, loss = 2.8764)\n",
            "Saving model (epoch =  201, loss = 2.8377)\n",
            "Saving model (epoch =  202, loss = 2.8252)\n",
            "Saving model (epoch =  203, loss = 2.8233)\n",
            "Saving model (epoch =  204, loss = 2.7699)\n",
            "Saving model (epoch =  205, loss = 2.7682)\n",
            "Saving model (epoch =  206, loss = 2.7664)\n",
            "Saving model (epoch =  207, loss = 2.7075)\n",
            "Saving model (epoch =  211, loss = 2.6599)\n",
            "Saving model (epoch =  213, loss = 2.6364)\n",
            "Saving model (epoch =  214, loss = 2.6223)\n",
            "Saving model (epoch =  217, loss = 2.6179)\n",
            "Saving model (epoch =  220, loss = 2.6170)\n",
            "Saving model (epoch =  222, loss = 2.5757)\n",
            "Saving model (epoch =  224, loss = 2.5457)\n",
            "Saving model (epoch =  226, loss = 2.5123)\n",
            "Saving model (epoch =  229, loss = 2.4463)\n",
            "Saving model (epoch =  231, loss = 2.4135)\n",
            "Saving model (epoch =  234, loss = 2.3434)\n",
            "Saving model (epoch =  237, loss = 2.3355)\n",
            "Saving model (epoch =  238, loss = 2.3145)\n",
            "Saving model (epoch =  241, loss = 2.3085)\n",
            "Saving model (epoch =  243, loss = 2.2866)\n",
            "Saving model (epoch =  244, loss = 2.2411)\n",
            "Saving model (epoch =  247, loss = 2.2312)\n",
            "Saving model (epoch =  248, loss = 2.1770)\n",
            "Saving model (epoch =  251, loss = 2.1529)\n",
            "Saving model (epoch =  253, loss = 2.1398)\n",
            "Saving model (epoch =  256, loss = 2.0839)\n",
            "Saving model (epoch =  257, loss = 2.0340)\n",
            "Saving model (epoch =  261, loss = 2.0259)\n",
            "Saving model (epoch =  262, loss = 1.9958)\n",
            "Saving model (epoch =  263, loss = 1.9771)\n",
            "Saving model (epoch =  267, loss = 1.9692)\n",
            "Saving model (epoch =  268, loss = 1.9349)\n",
            "Saving model (epoch =  270, loss = 1.8583)\n",
            "Saving model (epoch =  278, loss = 1.8322)\n",
            "Saving model (epoch =  282, loss = 1.7782)\n",
            "Saving model (epoch =  291, loss = 1.7629)\n",
            "Saving model (epoch =  292, loss = 1.7187)\n",
            "Saving model (epoch =  299, loss = 1.7176)\n",
            "Saving model (epoch =  305, loss = 1.6225)\n",
            "Saving model (epoch =  311, loss = 1.5926)\n",
            "Saving model (epoch =  314, loss = 1.5321)\n",
            "Saving model (epoch =  331, loss = 1.5231)\n",
            "Saving model (epoch =  332, loss = 1.5067)\n",
            "Saving model (epoch =  342, loss = 1.5056)\n",
            "Saving model (epoch =  343, loss = 1.4622)\n",
            "Saving model (epoch =  348, loss = 1.4401)\n",
            "Saving model (epoch =  359, loss = 1.4177)\n",
            "Saving model (epoch =  367, loss = 1.4105)\n",
            "Saving model (epoch =  368, loss = 1.4089)\n",
            "Saving model (epoch =  373, loss = 1.3939)\n",
            "Saving model (epoch =  375, loss = 1.3820)\n",
            "Saving model (epoch =  376, loss = 1.3549)\n",
            "Saving model (epoch =  378, loss = 1.3467)\n",
            "Saving model (epoch =  381, loss = 1.3182)\n",
            "Saving model (epoch =  385, loss = 1.3116)\n",
            "Saving model (epoch =  387, loss = 1.3014)\n",
            "Saving model (epoch =  390, loss = 1.2681)\n",
            "Saving model (epoch =  393, loss = 1.2430)\n",
            "Saving model (epoch =  400, loss = 1.2416)\n",
            "Saving model (epoch =  401, loss = 1.2028)\n",
            "Saving model (epoch =  402, loss = 1.1915)\n",
            "Saving model (epoch =  409, loss = 1.1904)\n",
            "Saving model (epoch =  410, loss = 1.1823)\n",
            "Saving model (epoch =  412, loss = 1.1576)\n",
            "Saving model (epoch =  423, loss = 1.1401)\n",
            "Saving model (epoch =  428, loss = 1.1275)\n",
            "Saving model (epoch =  432, loss = 1.1200)\n",
            "Saving model (epoch =  449, loss = 1.0768)\n",
            "Saving model (epoch =  450, loss = 1.0734)\n",
            "Saving model (epoch =  470, loss = 1.0526)\n",
            "Saving model (epoch =  475, loss = 1.0277)\n",
            "Saving model (epoch =  476, loss = 1.0184)\n",
            "Saving model (epoch =  486, loss = 0.9990)\n",
            "Saving model (epoch =  503, loss = 0.9840)\n",
            "Saving model (epoch =  510, loss = 0.9579)\n",
            "Saving model (epoch =  518, loss = 0.9497)\n",
            "Saving model (epoch =  520, loss = 0.9491)\n",
            "Saving model (epoch =  522, loss = 0.9416)\n",
            "Saving model (epoch =  528, loss = 0.9232)\n",
            "Saving model (epoch =  530, loss = 0.9155)\n",
            "Saving model (epoch =  534, loss = 0.9152)\n",
            "Saving model (epoch =  573, loss = 0.8633)\n",
            "Saving model (epoch =  767, loss = 0.8515)\n",
            "Saving model (epoch =  873, loss = 0.8440)\n",
            "Finished training after 1074 epochs\n"
          ]
        }
      ]
    },
    {
      "cell_type": "code",
      "metadata": {
        "id": "hsNO9nnXQBvP",
        "colab": {
          "base_uri": "https://localhost:8080/",
          "height": 410
        },
        "outputId": "8a59be81-6f02-4cd9-acbc-f6672983a61c"
      },
      "source": [
        "plot_learning_curve(model_loss_record, title='deep model')"
      ],
      "execution_count": 277,
      "outputs": [
        {
          "output_type": "display_data",
          "data": {
            "text/plain": [
              "<Figure size 600x400 with 1 Axes>"
            ],
            "image/png": "[encoded data removed]"
          },
          "metadata": {}
        }
      ]
    },
    {
      "cell_type": "code",
      "metadata": {
        "id": "3iZTVn5WQFpX",
        "colab": {
          "base_uri": "https://localhost:8080/",
          "height": 487
        },
        "outputId": "c23e2c10-0ba9-4112-bd86-5d471942920c"
      },
      "source": [
        "del model\n",
        "model = NeuralNet(tr_set.dataset.dim).to(device)\n",
        "ckpt = torch.load(config['save_path'], map_location='cpu')  # Load your best model\n",
        "model.load_state_dict(ckpt)\n",
        "plot_pred(dv_set, model, device)  # Show prediction on the validation set"
      ],
      "execution_count": 278,
      "outputs": [
        {
          "output_type": "display_data",
          "data": {
            "text/plain": [
              "<Figure size 500x500 with 1 Axes>"
            ],
            "image/png": "[encoded data removed]"
          },
          "metadata": {}
        }
      ]
    },
    {
      "cell_type": "markdown",
      "metadata": {
        "id": "aQikz3IPiyPf"
      },
      "source": [
        "# **Testing**\n",
        "The predictions of your model on testing set will be stored at `pred.csv`."
      ]
    },
    {
      "cell_type": "code",
      "metadata": {
        "id": "O8cTuQjQQOon",
        "colab": {
          "base_uri": "https://localhost:8080/"
        },
        "outputId": "fce44511-8bb7-4a18-e661-d8dc020a0310"
      },
      "source": [
        "def save_pred(preds, file):\n",
        "    ''' Save predictions to specified file '''\n",
        "    print('Saving results to {}'.format(file))\n",
        "    with open(file, 'w') as fp:\n",
        "        writer = csv.writer(fp)\n",
        "        writer.writerow(['id', 'tested_positive'])\n",
        "        for i, p in enumerate(preds):\n",
        "            writer.writerow([i, p])\n",
        "\n",
        "preds = test(tt_set, model, device)  # predict COVID-19 cases with your model\n",
        "save_pred(preds, 'pred.csv')         # save prediction file to pred.csv"
      ],
      "execution_count": 279,
      "outputs": [
        {
          "output_type": "stream",
          "name": "stdout",
          "text": [
            "Saving results to pred.csv\n"
          ]
        }
      ]
    },
    {
      "cell_type": "markdown",
      "metadata": {
        "id": "nfrVxqJanGpE"
      },
      "source": [
        "# **Hints**\n",
        "\n",
        "## **Simple Baseline**\n",
        "* Run sample code\n",
        "\n",
        "## **Medium Baseline**\n",
        "* Feature selection: 40 states + 2 `tested_positive` (`TODO` in dataset)\n",
        "\n",
        "## **Strong Baseline**\n",
        "* Feature selection (what other features are useful?)\n",
        "* DNN architecture (layers? dimension? activation function?)\n",
        "* Training (mini-batch? optimizer? learning rate?)\n",
        "* L2 regularization\n",
        "* There are some mistakes in the sample code, can you find them?"
      ]
    },
    {
      "cell_type": "markdown",
      "metadata": {
        "id": "9tmCwXgpot3t"
      },
      "source": [
        "# **Reference**\n",
        "This code is completely written by Heng-Jui Chang @ NTUEE.  \n",
        "Copying or reusing this code is required to specify the original author.\n",
        "\n",
        "E.g.  \n",
        "Source: Heng-Jui Chang @ NTUEE (https://github.com/ga642381/ML2021-Spring/blob/main/HW01/HW01.ipynb)\n"
      ]
    }
  ]
}